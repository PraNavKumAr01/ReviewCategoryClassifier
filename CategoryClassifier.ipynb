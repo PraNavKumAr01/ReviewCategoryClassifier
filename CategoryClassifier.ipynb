{
 "cells": [
  {
   "cell_type": "markdown",
   "id": "dfa6b68e",
   "metadata": {},
   "source": [
    "## IMPORTING NECCESARY LIBRARIES"
   ]
  },
  {
   "cell_type": "code",
   "execution_count": 5,
   "id": "9712a7c1",
   "metadata": {},
   "outputs": [],
   "source": [
    "import numpy as np\n",
    "import random\n",
    "from sklearn.model_selection import train_test_split\n",
    "from sklearn.feature_extraction.text import CountVectorizer, TfidfVectorizer\n",
    "from sklearn.metrics import f1_score\n",
    "\n",
    "import json"
   ]
  },
  {
   "cell_type": "markdown",
   "id": "a7601624",
   "metadata": {},
   "source": [
    "## CREATING CLASSES"
   ]
  },
  {
   "cell_type": "code",
   "execution_count": 9,
   "id": "d9743332",
   "metadata": {},
   "outputs": [],
   "source": [
    "class Category:\n",
    "    ELECTRONICS = \"ELECTRONICS\"\n",
    "    BOOKS = \"BOOKS\"\n",
    "    CLOTHING = \"CLOTHING\"\n",
    "    FOOD = \"FOOD\"\n",
    "    PATIO = \"PATIO\"\n",
    "\n",
    "class Review:\n",
    "    def __init__(self, category, text):\n",
    "        self.category = category\n",
    "        self.text = text\n",
    "        \n",
    "class ReviewContainer:\n",
    "    def __init__(self, reviews):\n",
    "        self.reviews = reviews\n",
    "    \n",
    "    def get_text(self):\n",
    "        return [x.text for x in self.reviews]\n",
    "    \n",
    "    def get_x(self, vectorizer):\n",
    "        return vectorizer.transform(self.get_text())\n",
    "    \n",
    "    def get_category(self):\n",
    "        return [x.category for x in self.reviews]"
   ]
  },
  {
   "cell_type": "markdown",
   "id": "aeba2e79",
   "metadata": {},
   "source": [
    "## LOAD IN THE DATA"
   ]
  },
  {
   "cell_type": "code",
   "execution_count": 10,
   "id": "0bb64b65",
   "metadata": {},
   "outputs": [],
   "source": [
    "file_names = ['./category/Electronics_small.json', './category/Books_small.json', './category/Clothing_small.json', './category/Grocery_small.json', './category/Patio_small.json']\n",
    "file_categories = [Category.ELECTRONICS, Category.BOOKS, Category.CLOTHING, Category.FOOD, Category.PATIO]\n",
    "\n",
    "reviews = []\n",
    "for i in range(len(file_names)):\n",
    "    file_name = file_names[i]\n",
    "    category = file_categories[i]\n",
    "    with open(file_name) as f:\n",
    "        for line in f:\n",
    "            review_json = json.loads(line)\n",
    "            review = Review(category, review_json['reviewText'])\n",
    "            \n",
    "            reviews.append(review)"
   ]
  },
  {
   "cell_type": "markdown",
   "id": "80cf24f8",
   "metadata": {},
   "source": [
    "## DATA PREP"
   ]
  },
  {
   "cell_type": "code",
   "execution_count": 11,
   "id": "f4b0bcbc",
   "metadata": {},
   "outputs": [],
   "source": [
    "train, test = train_test_split(reviews, test_size = 0.33, random_state=42)\n",
    "\n",
    "train_container = ReviewContainer(train)\n",
    "test_container = ReviewContainer(test)\n",
    "\n",
    "corpus = train_container.get_text()\n",
    "\n",
    "vectorizer = TfidfVectorizer()\n",
    "vectorizer.fit(corpus)\n",
    "\n",
    "train_x = train_container.get_x(vectorizer)\n",
    "train_y = train_container.get_category()\n",
    "\n",
    "test_x = test_container.get_x(vectorizer)\n",
    "test_y = test_container.get_category()"
   ]
  },
  {
   "cell_type": "markdown",
   "id": "ee2c9dc4",
   "metadata": {},
   "source": [
    "## CLASSIFICATION"
   ]
  },
  {
   "cell_type": "code",
   "execution_count": 12,
   "id": "d55d0ece",
   "metadata": {},
   "outputs": [
    {
     "data": {
      "text/plain": [
       "0.9193939393939394"
      ]
     },
     "execution_count": 12,
     "metadata": {},
     "output_type": "execute_result"
    }
   ],
   "source": [
    "from sklearn import svm\n",
    "\n",
    "clf = svm.SVC(C=1, kernel='rbf')\n",
    "clf.fit(train_x, train_y)\n",
    "clf.score(test_x, test_y)"
   ]
  },
  {
   "cell_type": "code",
   "execution_count": 13,
   "id": "7e1ba097",
   "metadata": {},
   "outputs": [
    {
     "data": {
      "text/plain": [
       "array(['BOOKS'], dtype='<U11')"
      ]
     },
     "execution_count": 13,
     "metadata": {},
     "output_type": "execute_result"
    }
   ],
   "source": [
    "test_set = ['the way it was put together was marvelous']\n",
    "new_set = vectorizer.transform(test_set)\n",
    "\n",
    "clf.predict(new_set)"
   ]
  },
  {
   "cell_type": "code",
   "execution_count": 14,
   "id": "41f0ff20",
   "metadata": {},
   "outputs": [
    {
     "name": "stderr",
     "output_type": "stream",
     "text": [
      "C:\\Users\\prana\\anaconda3\\lib\\site-packages\\sklearn\\utils\\validation.py:593: FutureWarning: np.matrix usage is deprecated in 1.0 and will raise a TypeError in 1.2. Please convert to a numpy array with np.asarray. For more information see: https://numpy.org/doc/stable/reference/generated/numpy.matrix.html\n",
      "  warnings.warn(\n",
      "C:\\Users\\prana\\anaconda3\\lib\\site-packages\\sklearn\\utils\\validation.py:593: FutureWarning: np.matrix usage is deprecated in 1.0 and will raise a TypeError in 1.2. Please convert to a numpy array with np.asarray. For more information see: https://numpy.org/doc/stable/reference/generated/numpy.matrix.html\n",
      "  warnings.warn(\n"
     ]
    },
    {
     "data": {
      "text/plain": [
       "0.8109090909090909"
      ]
     },
     "execution_count": 14,
     "metadata": {},
     "output_type": "execute_result"
    }
   ],
   "source": [
    "from sklearn.naive_bayes import GaussianNB\n",
    "\n",
    "gnb = GaussianNB()\n",
    "\n",
    "gnb.fit(train_x.todense(),train_y)\n",
    "gnb.score(test_x.todense(),test_y)"
   ]
  },
  {
   "cell_type": "code",
   "execution_count": 15,
   "id": "4f3e6818",
   "metadata": {},
   "outputs": [
    {
     "data": {
      "text/plain": [
       "array([0.95366218, 0.9009009 , 0.89142857, 0.93188854, 0.92084006])"
      ]
     },
     "execution_count": 15,
     "metadata": {},
     "output_type": "execute_result"
    }
   ],
   "source": [
    "y_pred = clf.predict(test_x)\n",
    "f1_score(test_y,y_pred,average = None)"
   ]
  },
  {
   "cell_type": "code",
   "execution_count": 16,
   "id": "fc305abc",
   "metadata": {},
   "outputs": [
    {
     "name": "stderr",
     "output_type": "stream",
     "text": [
      "C:\\Users\\prana\\anaconda3\\lib\\site-packages\\sklearn\\utils\\validation.py:593: FutureWarning: np.matrix usage is deprecated in 1.0 and will raise a TypeError in 1.2. Please convert to a numpy array with np.asarray. For more information see: https://numpy.org/doc/stable/reference/generated/numpy.matrix.html\n",
      "  warnings.warn(\n"
     ]
    },
    {
     "data": {
      "text/plain": [
       "array([0.84161491, 0.76725522, 0.7994012 , 0.85139319, 0.79554937])"
      ]
     },
     "execution_count": 16,
     "metadata": {},
     "output_type": "execute_result"
    }
   ],
   "source": [
    "y_pred = gnb.predict(test_x.todense())\n",
    "f1_score(test_y,y_pred,average = None)"
   ]
  },
  {
   "cell_type": "markdown",
   "id": "61e105f7",
   "metadata": {},
   "source": [
    "## CONFUSION MATRIX"
   ]
  },
  {
   "cell_type": "code",
   "execution_count": 17,
   "id": "3e185c89",
   "metadata": {},
   "outputs": [],
   "source": [
    "from sklearn.metrics import confusion_matrix\n",
    "import pandas as pd\n",
    "import seaborn as sns\n",
    "import matplotlib.pyplot as plt"
   ]
  },
  {
   "cell_type": "markdown",
   "id": "4cb60b08",
   "metadata": {},
   "source": [
    "## HEATMAP FOR SVM CLASSIFIER"
   ]
  },
  {
   "cell_type": "code",
   "execution_count": 36,
   "id": "d4d6ac8d",
   "metadata": {},
   "outputs": [
    {
     "data": {
      "image/png": "[encoded data removed]",
      "text/plain": [
       "<Figure size 640x480 with 2 Axes>"
      ]
     },
     "metadata": {},
     "output_type": "display_data"
    }
   ],
   "source": [
    "y_pred = clf.predict(test_x)\n",
    "\n",
    "labels = [Category.ELECTRONICS, Category.BOOKS, Category.CLOTHING, Category.FOOD, Category.PATIO]\n",
    "\n",
    "cm = confusion_matrix(test_y,y_pred,labels = labels)\n",
    "df_cm = pd.DataFrame(cm,index = labels,columns = labels)\n",
    "\n",
    "sns.heatmap(df_cm, annot = True, fmt = 'd')\n",
    "\n",
    "plt.savefig(\"svmHeatmap.png\")\n",
    "\n",
    "plt.show()"
   ]
  },
  {
   "cell_type": "markdown",
   "id": "1e047a3c",
   "metadata": {},
   "source": [
    "## HEATMAP FOR NAIVE BAYES CLASSIFIER"
   ]
  },
  {
   "cell_type": "code",
   "execution_count": 37,
   "id": "37ffe0db",
   "metadata": {},
   "outputs": [
    {
     "name": "stderr",
     "output_type": "stream",
     "text": [
      "C:\\Users\\prana\\anaconda3\\lib\\site-packages\\sklearn\\utils\\validation.py:593: FutureWarning: np.matrix usage is deprecated in 1.0 and will raise a TypeError in 1.2. Please convert to a numpy array with np.asarray. For more information see: https://numpy.org/doc/stable/reference/generated/numpy.matrix.html\n",
      "  warnings.warn(\n"
     ]
    },
    {
     "data": {
      "image/png": "[encoded data removed]",
      "text/plain": [
       "<Figure size 640x480 with 2 Axes>"
      ]
     },
     "metadata": {},
     "output_type": "display_data"
    }
   ],
   "source": [
    "y_pred = gnb.predict(test_x.todense())\n",
    "\n",
    "labels = [Category.ELECTRONICS, Category.BOOKS, Category.CLOTHING, Category.FOOD, Category.PATIO]\n",
    "\n",
    "cm = confusion_matrix(test_y,y_pred,labels = labels)\n",
    "df_cm = pd.DataFrame(cm,index = labels,columns = labels)\n",
    "\n",
    "sns.heatmap(df_cm, annot = True, fmt = 'd')\n",
    "\n",
    "plt.savefig(\"gnbHeatmap.png\")\n",
    "\n",
    "plt.show()"
   ]
  },
  {
   "cell_type": "markdown",
   "id": "3d7b1256",
   "metadata": {},
   "source": [
    "## SAVING THE MODEL"
   ]
  },
  {
   "cell_type": "code",
   "execution_count": 21,
   "id": "53a3aa9a",
   "metadata": {},
   "outputs": [],
   "source": [
    "import pickle\n",
    "with open(\"./models./CategoryClassifier.pkl\",'wb') as f:\n",
    "    pickle.dump(clf,f)"
   ]
  },
  {
   "cell_type": "code",
   "execution_count": 22,
   "id": "0d44c004",
   "metadata": {},
   "outputs": [],
   "source": [
    "with open(\"./models./CategoryClassifier.pkl\",'rb') as f:\n",
    "    pickle.load(f)"
   ]
  },
  {
   "cell_type": "code",
   "execution_count": 41,
   "id": "436f9e3b",
   "metadata": {},
   "outputs": [
    {
     "data": {
      "text/plain": [
       "array(['ELECTRONICS'], dtype='<U11')"
      ]
     },
     "execution_count": 41,
     "metadata": {},
     "output_type": "execute_result"
    }
   ],
   "source": [
    "test_set = ['good for gaming']\n",
    "new_set = vectorizer.transform(test_set)\n",
    "\n",
    "clf.predict(new_set)"
   ]
  }
 ],
 "metadata": {
  "kernelspec": {
   "display_name": "Python 3 (ipykernel)",
   "language": "python",
   "name": "python3"
  },
  "language_info": {
   "codemirror_mode": {
    "name": "ipython",
    "version": 3
   },
   "file_extension": ".py",
   "mimetype": "text/x-python",
   "name": "python",
   "nbconvert_exporter": "python",
   "pygments_lexer": "ipython3",
   "version": "3.9.13"
  }
 },
 "nbformat": 4,
 "nbformat_minor": 5
}
